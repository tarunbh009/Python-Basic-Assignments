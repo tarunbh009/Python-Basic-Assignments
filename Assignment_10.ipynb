{
  "metadata": {
    "language_info": {
      "codemirror_mode": {
        "name": "python",
        "version": 3
      },
      "file_extension": ".py",
      "mimetype": "text/x-python",
      "name": "python",
      "nbconvert_exporter": "python",
      "pygments_lexer": "ipython3",
      "version": "3.8"
    },
    "kernelspec": {
      "name": "python",
      "display_name": "Python (Pyodide)",
      "language": "python"
    }
  },
  "nbformat_minor": 4,
  "nbformat": 4,
  "cells": [
    {
      "cell_type": "markdown",
      "source": "### 1. How do you distinguish between shutil.copy() and shutil.copytree()?",
      "metadata": {}
    },
    {
      "cell_type": "markdown",
      "source": "    shutil.copy : Copies a single file\n    shutil.copytree() : will copy an entire folder and every folder and file contained in it",
      "metadata": {}
    },
    {
      "cell_type": "markdown",
      "source": "### 2. What function is used to rename files??",
      "metadata": {}
    },
    {
      "cell_type": "markdown",
      "source": "    import os\n    os.rename(\"text.txt\",\"testnew.txt\")",
      "metadata": {}
    },
    {
      "cell_type": "markdown",
      "source": "### 3. What is the difference between the delete functions in the send2trash and shutil modules?",
      "metadata": {}
    },
    {
      "cell_type": "markdown",
      "source": "    import shutil\n    shutil.retree():\n    The shutil module’s rmtree() function can be used to delete files or folders. But, this function delete the files\n    permanently. \n    The operations cannot be undone if there were any accidental deletions performed \n\n    import send2trash\n    send2trash.send2trash() : Using send2trash, we can send files to the Trash or Recycle Bin instead of permanently \n    deleting them.\n    If the directory contains files or other folders, those are also deleted. A TrashPermissionError exception is raised, \n    in case a file could not be deleted due to permission error or any other unexpected reason.",
      "metadata": {}
    },
    {
      "cell_type": "code",
      "source": "import shutil\nimport send2trash\nshutil.rmtree(\"path\")\nsend2trash.send2trash(\"path\")",
      "metadata": {
        "trusted": true
      },
      "execution_count": null,
      "outputs": []
    },
    {
      "cell_type": "markdown",
      "source": "### 4. ZipFile objects have a close() method just like File objects’ close() method. What ZipFile method is equivalent to File objects’ open() method?",
      "metadata": {}
    },
    {
      "cell_type": "markdown",
      "source": "    from zipfile import Zipfile\n    with ZipFile(file_name, 'r') as zip: -> this code will open specified zipfile for us. we can use zip objext to preform oother operation the ziplife. like zip.read()",
      "metadata": {}
    },
    {
      "cell_type": "code",
      "source": "from zipfile import Zipfile\nwith ZipFile(file_name, 'r') as zip",
      "metadata": {
        "trusted": true
      },
      "execution_count": null,
      "outputs": []
    },
    {
      "cell_type": "markdown",
      "source": "### 5. Create a programme that searches a folder tree for files with a certain file extension (such as .pdf or .jpg). Copy these files from whatever location they are in to a new folder.",
      "metadata": {}
    },
    {
      "cell_type": "code",
      "source": "# Write a program that walks through a folder tree \n# and searches for files with a certain file extension (such as .pdf or .jpg).\n# Copy these files from whatever location they are in to a new folder.\n\nimport os, shutil\n\ndef selectiveCopy(source, extensions, destFolder):\n    folder = os.path.abspath(source)\n    destFolder = os.path.abspath(destFolder)\n    print('Looking in', source, 'for files with extensions of', ', '.join(extensions))\n    for foldername, subfolders, filenames in os.walk(source):\n        for filename in filenames:\n            name, extension = os.path.splitext(filename)\n            if extension in extensions:\n                fileAbsPath = foldername + os.path.sep + filename\n                print('Coping', fileAbsPath, 'to', destFolder)\n                shutil.copy(fileAbsPath, destFolder)\n\nextensions = ['.mp4', '.pdf','.jpg']\nsource = \"C:\\\\Users\\\\bhanu\\\\Desktop\\\\source\"\ndestFolder = \"C:\\\\Users\\\\bhanu\\\\Desktop\\\\dest\"\nselectiveCopy(source, extensions, destFolder)",
      "metadata": {
        "trusted": true
      },
      "execution_count": null,
      "outputs": []
    },
    {
      "cell_type": "code",
      "source": "",
      "metadata": {},
      "execution_count": null,
      "outputs": []
    }
  ]
}